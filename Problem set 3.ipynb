{
 "cells": [
  {
   "cell_type": "markdown",
   "id": "fossil-arcade",
   "metadata": {},
   "source": [
    "# Problem Set 3"
   ]
  },
  {
   "cell_type": "markdown",
   "id": "permanent-trainer",
   "metadata": {},
   "source": [
    "#### Question 1:\n",
    "    \n",
    "Occupations\n",
    "Step 1. Import the necessary libraries\n",
    "Step 2. Import the dataset from this address.\n",
    "Step 3. Assign it to a variable called users\n",
    "Step 4. Discover what is the mean age per occupation\n",
    "Step 5. Discover the Male ratio per occupation and sort it from the most to the least\n",
    "Step 6. For each occupation, calculate the minimum and maximum ages\n",
    "Step 7. For each combination of occupation and sex, calculate the mean age\n",
    "Step 8. For each occupation present the percentage of women and men"
   ]
  },
  {
   "cell_type": "markdown",
   "id": "forward-spell",
   "metadata": {},
   "source": [
    "Occupations\n",
    "Step 1. Import the necessary libraries\n",
    "Step 2. Import the dataset from this address.\n",
    "Step 3. Assign it to a variable called users\n",
    "Step 4. Discover what is the mean age per occupation"
   ]
  },
  {
   "cell_type": "code",
   "execution_count": 1,
   "id": "recent-aluminum",
   "metadata": {},
   "outputs": [
    {
     "data": {
      "text/plain": [
       "occupation\n",
       "administrator    38.746835\n",
       "artist           31.392857\n",
       "doctor           43.571429\n",
       "educator         42.010526\n",
       "engineer         36.388060\n",
       "entertainment    29.222222\n",
       "executive        38.718750\n",
       "healthcare       41.562500\n",
       "homemaker        32.571429\n",
       "lawyer           36.750000\n",
       "librarian        40.000000\n",
       "marketing        37.615385\n",
       "none             26.555556\n",
       "other            34.523810\n",
       "programmer       33.121212\n",
       "retired          63.071429\n",
       "salesman         35.666667\n",
       "scientist        35.548387\n",
       "student          22.081633\n",
       "technician       33.148148\n",
       "writer           36.311111\n",
       "Name: age, dtype: float64"
      ]
     },
     "execution_count": 1,
     "metadata": {},
     "output_type": "execute_result"
    }
   ],
   "source": [
    "import pandas as pd\n",
    "\n",
    "users = pd.read_table(r'https://raw.githubusercontent.com/justmarkham/DAT8/master/data/u.user', sep='|', index_col='user_id')\n",
    "\n",
    "user_occupation = users.set_index([\"occupation\"])\n",
    "\n",
    "mean_age = user_occupation[\"age\"].groupby('occupation').mean()\n",
    "mean_age"
   ]
  },
  {
   "cell_type": "markdown",
   "id": "opened-corrections",
   "metadata": {},
   "source": [
    "Step 5. Discover the Male ratio per occupation and sort it from the most to the least"
   ]
  },
  {
   "cell_type": "code",
   "execution_count": 2,
   "id": "empty-attraction",
   "metadata": {},
   "outputs": [
    {
     "name": "stdout",
     "output_type": "stream",
     "text": [
      "occupation\n",
      "engineer         32.500000\n",
      "technician       26.000000\n",
      "retired          13.000000\n",
      "programmer       10.000000\n",
      "executive         9.666667\n",
      "scientist         9.333333\n",
      "entertainment     8.000000\n",
      "lawyer            5.000000\n",
      "salesman          3.000000\n",
      "educator          2.653846\n",
      "student           2.266667\n",
      "other             1.916667\n",
      "marketing         1.600000\n",
      "writer            1.368421\n",
      "none              1.250000\n",
      "administrator     1.194444\n",
      "artist            1.153846\n",
      "librarian         0.758621\n",
      "healthcare        0.454545\n",
      "homemaker         0.166667\n",
      "doctor                 NaN\n",
      "Name: occupation, dtype: float64\n"
     ]
    }
   ],
   "source": [
    "gender_total = users['gender'].value_counts()\n",
    "gender_occupation = users.groupby('gender')['occupation'].value_counts()\n",
    "sex_ratio = gender_occupation['M']/gender_occupation['F']\n",
    "print(sex_ratio.sort_values(ascending=False))\n"
   ]
  },
  {
   "cell_type": "markdown",
   "id": "northern-raleigh",
   "metadata": {},
   "source": [
    "Step 6. For each occupation, calculate the minimum and maximum ages"
   ]
  },
  {
   "cell_type": "code",
   "execution_count": 3,
   "id": "developmental-inventory",
   "metadata": {},
   "outputs": [
    {
     "name": "stdout",
     "output_type": "stream",
     "text": [
      "occupation\n",
      "administrator    70\n",
      "artist           48\n",
      "doctor           64\n",
      "educator         63\n",
      "engineer         70\n",
      "entertainment    50\n",
      "executive        69\n",
      "healthcare       62\n",
      "homemaker        50\n",
      "lawyer           53\n",
      "librarian        69\n",
      "marketing        55\n",
      "none             55\n",
      "other            64\n",
      "programmer       63\n",
      "retired          73\n",
      "salesman         66\n",
      "scientist        55\n",
      "student          42\n",
      "technician       55\n",
      "writer           60\n",
      "Name: age, dtype: int64 occupation\n",
      "administrator    21\n",
      "artist           19\n",
      "doctor           28\n",
      "educator         23\n",
      "engineer         22\n",
      "entertainment    15\n",
      "executive        22\n",
      "healthcare       22\n",
      "homemaker        20\n",
      "lawyer           21\n",
      "librarian        23\n",
      "marketing        24\n",
      "none             11\n",
      "other            13\n",
      "programmer       20\n",
      "retired          51\n",
      "salesman         18\n",
      "scientist        23\n",
      "student           7\n",
      "technician       21\n",
      "writer           18\n",
      "Name: age, dtype: int64\n"
     ]
    }
   ],
   "source": [
    "\n",
    "max_age =  user_occupation[\"age\"].groupby('occupation').max()\n",
    "min_age =  user_occupation[\"age\"].groupby('occupation').min()\n",
    "print(max_age, min_age)"
   ]
  },
  {
   "cell_type": "markdown",
   "id": "played-backing",
   "metadata": {},
   "source": [
    "Step 7. For each combination of occupation and sex, calculate the mean age"
   ]
  },
  {
   "cell_type": "code",
   "execution_count": 4,
   "id": "sublime-anaheim",
   "metadata": {},
   "outputs": [
    {
     "data": {
      "text/plain": [
       "occupation     gender\n",
       "administrator  F         40.638889\n",
       "               M         37.162791\n",
       "artist         F         30.307692\n",
       "               M         32.333333\n",
       "doctor         M         43.571429\n",
       "educator       F         39.115385\n",
       "               M         43.101449\n",
       "engineer       F         29.500000\n",
       "               M         36.600000\n",
       "entertainment  F         31.000000\n",
       "               M         29.000000\n",
       "executive      F         44.000000\n",
       "               M         38.172414\n",
       "healthcare     F         39.818182\n",
       "               M         45.400000\n",
       "homemaker      F         34.166667\n",
       "               M         23.000000\n",
       "lawyer         F         39.500000\n",
       "               M         36.200000\n",
       "librarian      F         40.000000\n",
       "               M         40.000000\n",
       "marketing      F         37.200000\n",
       "               M         37.875000\n",
       "none           F         36.500000\n",
       "               M         18.600000\n",
       "other          F         35.472222\n",
       "               M         34.028986\n",
       "programmer     F         32.166667\n",
       "               M         33.216667\n",
       "retired        F         70.000000\n",
       "               M         62.538462\n",
       "salesman       F         27.000000\n",
       "               M         38.555556\n",
       "scientist      F         28.333333\n",
       "               M         36.321429\n",
       "student        F         20.750000\n",
       "               M         22.669118\n",
       "technician     F         38.000000\n",
       "               M         32.961538\n",
       "writer         F         37.631579\n",
       "               M         35.346154\n",
       "Name: age, dtype: float64"
      ]
     },
     "execution_count": 4,
     "metadata": {},
     "output_type": "execute_result"
    }
   ],
   "source": [
    "\n",
    "users.groupby(['occupation','gender'])['age'].mean()"
   ]
  },
  {
   "cell_type": "markdown",
   "id": "varied-narrow",
   "metadata": {},
   "source": [
    "Step 8. For each occupation present the percentage of women and men?."
   ]
  },
  {
   "cell_type": "code",
   "execution_count": 5,
   "id": "following-tamil",
   "metadata": {},
   "outputs": [
    {
     "name": "stdout",
     "output_type": "stream",
     "text": [
      "occupation\n",
      "administrator    54.430380\n",
      "artist           53.571429\n",
      "doctor                 NaN\n",
      "educator         72.631579\n",
      "engineer         97.014925\n",
      "entertainment    88.888889\n",
      "executive        90.625000\n",
      "healthcare       31.250000\n",
      "homemaker        14.285714\n",
      "lawyer           83.333333\n",
      "librarian        43.137255\n",
      "marketing        61.538462\n",
      "none             55.555556\n",
      "other            65.714286\n",
      "programmer       90.909091\n",
      "retired          92.857143\n",
      "salesman         75.000000\n",
      "scientist        90.322581\n",
      "student          69.387755\n",
      "technician       96.296296\n",
      "writer           57.777778\n",
      "Name: occupation, dtype: float64 occupation\n",
      "administrator    45.569620\n",
      "artist           46.428571\n",
      "doctor                 NaN\n",
      "educator         27.368421\n",
      "engineer          2.985075\n",
      "entertainment    11.111111\n",
      "executive         9.375000\n",
      "healthcare       68.750000\n",
      "homemaker        85.714286\n",
      "lawyer           16.666667\n",
      "librarian        56.862745\n",
      "marketing        38.461538\n",
      "none             44.444444\n",
      "other            34.285714\n",
      "programmer        9.090909\n",
      "retired           7.142857\n",
      "salesman         25.000000\n",
      "scientist         9.677419\n",
      "student          30.612245\n",
      "technician        3.703704\n",
      "writer           42.222222\n",
      "Name: occupation, dtype: float64\n"
     ]
    }
   ],
   "source": [
    "gender_total = users['gender'].value_counts()\n",
    "gender_occupation = users.groupby('gender')['occupation'].value_counts()\n",
    "male_sex_ratio = gender_occupation['M']/(gender_occupation['M'] + gender_occupation['F'])*100\n",
    "female_sex_ratio = gender_occupation['F']/(gender_occupation['M'] + gender_occupation['F'])*100\n",
    "print(male_sex_ratio, female_sex_ratio)"
   ]
  },
  {
   "cell_type": "markdown",
   "id": "joint-wings",
   "metadata": {},
   "source": [
    "## Question 2:\n",
    "\n",
    "Euro Teams\n",
    "Step 1. Import the necessary libraries\n",
    "Step 2. Import the dataset from this address\n",
    "Step 3. Assign it to a variable called euro12\n",
    "Step 4. Select only the Goal column\n",
    "Step 5. How many team participated in the Euro2012?\n",
    "Step 6. What is the number of columns in the dataset?\n",
    "Step 7. View only the columns Team, Yellow Cards and Red Cards and assign them\n",
    "to a dataframe called discipline\n",
    "Step 8. Sort the teams by Red Cards, then to Yellow Cards\n",
    "Step 9. Calculate the mean Yellow Cards given per Team"
   ]
  },
  {
   "cell_type": "markdown",
   "id": "brazilian-representative",
   "metadata": {},
   "source": [
    "Step 1,2,3:\n",
    "    \n",
    "Step 1: Import the necessary libraries\n",
    "Step 2: Import the dataset from this address\n",
    "Step 3: Assign it to a variable called euro12"
   ]
  },
  {
   "cell_type": "code",
   "execution_count": 6,
   "id": "registered-jacob",
   "metadata": {},
   "outputs": [
    {
     "data": {
      "text/plain": [
       "0      4\n",
       "1      4\n",
       "2      4\n",
       "3      5\n",
       "4      3\n",
       "5     10\n",
       "6      5\n",
       "7      6\n",
       "8      2\n",
       "9      2\n",
       "10     6\n",
       "11     1\n",
       "12     5\n",
       "13    12\n",
       "14     5\n",
       "15     2\n",
       "Name: Goals, dtype: int64"
      ]
     },
     "execution_count": 6,
     "metadata": {},
     "output_type": "execute_result"
    }
   ],
   "source": [
    "import pandas as pd\n",
    "\n",
    "euro12 = pd.read_csv(r'https://raw.githubusercontent.com/guipsamora/pandas_exercises/master/02_Filtering_%26_Sorting/Euro12/Euro_2012_stats_TEAM.csv')\n",
    "euro12['Goals']"
   ]
  },
  {
   "cell_type": "markdown",
   "id": "independent-penetration",
   "metadata": {},
   "source": [
    "step 5. How many team participated in the Euro2012?"
   ]
  },
  {
   "cell_type": "code",
   "execution_count": 7,
   "id": "younger-graphics",
   "metadata": {},
   "outputs": [
    {
     "data": {
      "text/plain": [
       "16"
      ]
     },
     "execution_count": 7,
     "metadata": {},
     "output_type": "execute_result"
    }
   ],
   "source": [
    "euro12.shape[0]"
   ]
  },
  {
   "cell_type": "markdown",
   "id": "satisfactory-pittsburgh",
   "metadata": {},
   "source": [
    "Step 6. What is the number of columns in the dataset?"
   ]
  },
  {
   "cell_type": "code",
   "execution_count": 8,
   "id": "alternate-chassis",
   "metadata": {},
   "outputs": [
    {
     "data": {
      "text/plain": [
       "35"
      ]
     },
     "execution_count": 8,
     "metadata": {},
     "output_type": "execute_result"
    }
   ],
   "source": [
    "euro12.shape[1]"
   ]
  },
  {
   "cell_type": "markdown",
   "id": "numerous-literacy",
   "metadata": {},
   "source": [
    "Step 7. View only the columns Team, Yellow Cards and Red Cards and assign them\n",
    "to a dataframe called discipline"
   ]
  },
  {
   "cell_type": "code",
   "execution_count": 9,
   "id": "african-brake",
   "metadata": {},
   "outputs": [
    {
     "data": {
      "text/html": [
       "<div>\n",
       "<style scoped>\n",
       "    .dataframe tbody tr th:only-of-type {\n",
       "        vertical-align: middle;\n",
       "    }\n",
       "\n",
       "    .dataframe tbody tr th {\n",
       "        vertical-align: top;\n",
       "    }\n",
       "\n",
       "    .dataframe thead th {\n",
       "        text-align: right;\n",
       "    }\n",
       "</style>\n",
       "<table border=\"1\" class=\"dataframe\">\n",
       "  <thead>\n",
       "    <tr style=\"text-align: right;\">\n",
       "      <th></th>\n",
       "      <th>Team</th>\n",
       "      <th>Yellow Cards</th>\n",
       "      <th>Red Cards</th>\n",
       "    </tr>\n",
       "  </thead>\n",
       "  <tbody>\n",
       "    <tr>\n",
       "      <th>0</th>\n",
       "      <td>Croatia</td>\n",
       "      <td>9</td>\n",
       "      <td>0</td>\n",
       "    </tr>\n",
       "    <tr>\n",
       "      <th>1</th>\n",
       "      <td>Czech Republic</td>\n",
       "      <td>7</td>\n",
       "      <td>0</td>\n",
       "    </tr>\n",
       "    <tr>\n",
       "      <th>2</th>\n",
       "      <td>Denmark</td>\n",
       "      <td>4</td>\n",
       "      <td>0</td>\n",
       "    </tr>\n",
       "    <tr>\n",
       "      <th>3</th>\n",
       "      <td>England</td>\n",
       "      <td>5</td>\n",
       "      <td>0</td>\n",
       "    </tr>\n",
       "    <tr>\n",
       "      <th>4</th>\n",
       "      <td>France</td>\n",
       "      <td>6</td>\n",
       "      <td>0</td>\n",
       "    </tr>\n",
       "    <tr>\n",
       "      <th>5</th>\n",
       "      <td>Germany</td>\n",
       "      <td>4</td>\n",
       "      <td>0</td>\n",
       "    </tr>\n",
       "    <tr>\n",
       "      <th>6</th>\n",
       "      <td>Greece</td>\n",
       "      <td>9</td>\n",
       "      <td>1</td>\n",
       "    </tr>\n",
       "    <tr>\n",
       "      <th>7</th>\n",
       "      <td>Italy</td>\n",
       "      <td>16</td>\n",
       "      <td>0</td>\n",
       "    </tr>\n",
       "    <tr>\n",
       "      <th>8</th>\n",
       "      <td>Netherlands</td>\n",
       "      <td>5</td>\n",
       "      <td>0</td>\n",
       "    </tr>\n",
       "    <tr>\n",
       "      <th>9</th>\n",
       "      <td>Poland</td>\n",
       "      <td>7</td>\n",
       "      <td>1</td>\n",
       "    </tr>\n",
       "    <tr>\n",
       "      <th>10</th>\n",
       "      <td>Portugal</td>\n",
       "      <td>12</td>\n",
       "      <td>0</td>\n",
       "    </tr>\n",
       "    <tr>\n",
       "      <th>11</th>\n",
       "      <td>Republic of Ireland</td>\n",
       "      <td>6</td>\n",
       "      <td>1</td>\n",
       "    </tr>\n",
       "    <tr>\n",
       "      <th>12</th>\n",
       "      <td>Russia</td>\n",
       "      <td>6</td>\n",
       "      <td>0</td>\n",
       "    </tr>\n",
       "    <tr>\n",
       "      <th>13</th>\n",
       "      <td>Spain</td>\n",
       "      <td>11</td>\n",
       "      <td>0</td>\n",
       "    </tr>\n",
       "    <tr>\n",
       "      <th>14</th>\n",
       "      <td>Sweden</td>\n",
       "      <td>7</td>\n",
       "      <td>0</td>\n",
       "    </tr>\n",
       "    <tr>\n",
       "      <th>15</th>\n",
       "      <td>Ukraine</td>\n",
       "      <td>5</td>\n",
       "      <td>0</td>\n",
       "    </tr>\n",
       "  </tbody>\n",
       "</table>\n",
       "</div>"
      ],
      "text/plain": [
       "                   Team  Yellow Cards  Red Cards\n",
       "0               Croatia             9          0\n",
       "1        Czech Republic             7          0\n",
       "2               Denmark             4          0\n",
       "3               England             5          0\n",
       "4                France             6          0\n",
       "5               Germany             4          0\n",
       "6                Greece             9          1\n",
       "7                 Italy            16          0\n",
       "8           Netherlands             5          0\n",
       "9                Poland             7          1\n",
       "10             Portugal            12          0\n",
       "11  Republic of Ireland             6          1\n",
       "12               Russia             6          0\n",
       "13                Spain            11          0\n",
       "14               Sweden             7          0\n",
       "15              Ukraine             5          0"
      ]
     },
     "execution_count": 9,
     "metadata": {},
     "output_type": "execute_result"
    }
   ],
   "source": [
    "discipline = euro12[['Team', 'Yellow Cards', 'Red Cards']]\n",
    "discipline"
   ]
  },
  {
   "cell_type": "code",
   "execution_count": 10,
   "id": "complete-naples",
   "metadata": {},
   "outputs": [
    {
     "data": {
      "text/html": [
       "<div>\n",
       "<style scoped>\n",
       "    .dataframe tbody tr th:only-of-type {\n",
       "        vertical-align: middle;\n",
       "    }\n",
       "\n",
       "    .dataframe tbody tr th {\n",
       "        vertical-align: top;\n",
       "    }\n",
       "\n",
       "    .dataframe thead th {\n",
       "        text-align: right;\n",
       "    }\n",
       "</style>\n",
       "<table border=\"1\" class=\"dataframe\">\n",
       "  <thead>\n",
       "    <tr style=\"text-align: right;\">\n",
       "      <th></th>\n",
       "      <th>Team</th>\n",
       "      <th>Goals</th>\n",
       "      <th>Shots on target</th>\n",
       "      <th>Shots off target</th>\n",
       "      <th>Shooting Accuracy</th>\n",
       "      <th>% Goals-to-shots</th>\n",
       "      <th>Total shots (inc. Blocked)</th>\n",
       "      <th>Hit Woodwork</th>\n",
       "      <th>Penalty goals</th>\n",
       "      <th>Penalties not scored</th>\n",
       "      <th>...</th>\n",
       "      <th>Saves made</th>\n",
       "      <th>Saves-to-shots ratio</th>\n",
       "      <th>Fouls Won</th>\n",
       "      <th>Fouls Conceded</th>\n",
       "      <th>Offsides</th>\n",
       "      <th>Yellow Cards</th>\n",
       "      <th>Red Cards</th>\n",
       "      <th>Subs on</th>\n",
       "      <th>Subs off</th>\n",
       "      <th>Players Used</th>\n",
       "    </tr>\n",
       "  </thead>\n",
       "  <tbody>\n",
       "    <tr>\n",
       "      <th>2</th>\n",
       "      <td>Denmark</td>\n",
       "      <td>4</td>\n",
       "      <td>10</td>\n",
       "      <td>10</td>\n",
       "      <td>50.0%</td>\n",
       "      <td>20.0%</td>\n",
       "      <td>27</td>\n",
       "      <td>1</td>\n",
       "      <td>0</td>\n",
       "      <td>0</td>\n",
       "      <td>...</td>\n",
       "      <td>10</td>\n",
       "      <td>66.7%</td>\n",
       "      <td>25</td>\n",
       "      <td>38</td>\n",
       "      <td>8</td>\n",
       "      <td>4</td>\n",
       "      <td>0</td>\n",
       "      <td>7</td>\n",
       "      <td>7</td>\n",
       "      <td>15</td>\n",
       "    </tr>\n",
       "    <tr>\n",
       "      <th>5</th>\n",
       "      <td>Germany</td>\n",
       "      <td>10</td>\n",
       "      <td>32</td>\n",
       "      <td>32</td>\n",
       "      <td>47.8%</td>\n",
       "      <td>15.6%</td>\n",
       "      <td>80</td>\n",
       "      <td>2</td>\n",
       "      <td>1</td>\n",
       "      <td>0</td>\n",
       "      <td>...</td>\n",
       "      <td>10</td>\n",
       "      <td>62.6%</td>\n",
       "      <td>63</td>\n",
       "      <td>49</td>\n",
       "      <td>12</td>\n",
       "      <td>4</td>\n",
       "      <td>0</td>\n",
       "      <td>15</td>\n",
       "      <td>15</td>\n",
       "      <td>17</td>\n",
       "    </tr>\n",
       "    <tr>\n",
       "      <th>3</th>\n",
       "      <td>England</td>\n",
       "      <td>5</td>\n",
       "      <td>11</td>\n",
       "      <td>18</td>\n",
       "      <td>50.0%</td>\n",
       "      <td>17.2%</td>\n",
       "      <td>40</td>\n",
       "      <td>0</td>\n",
       "      <td>0</td>\n",
       "      <td>0</td>\n",
       "      <td>...</td>\n",
       "      <td>22</td>\n",
       "      <td>88.1%</td>\n",
       "      <td>43</td>\n",
       "      <td>45</td>\n",
       "      <td>6</td>\n",
       "      <td>5</td>\n",
       "      <td>0</td>\n",
       "      <td>11</td>\n",
       "      <td>11</td>\n",
       "      <td>16</td>\n",
       "    </tr>\n",
       "    <tr>\n",
       "      <th>8</th>\n",
       "      <td>Netherlands</td>\n",
       "      <td>2</td>\n",
       "      <td>12</td>\n",
       "      <td>36</td>\n",
       "      <td>25.0%</td>\n",
       "      <td>4.1%</td>\n",
       "      <td>60</td>\n",
       "      <td>2</td>\n",
       "      <td>0</td>\n",
       "      <td>0</td>\n",
       "      <td>...</td>\n",
       "      <td>12</td>\n",
       "      <td>70.6%</td>\n",
       "      <td>35</td>\n",
       "      <td>30</td>\n",
       "      <td>3</td>\n",
       "      <td>5</td>\n",
       "      <td>0</td>\n",
       "      <td>7</td>\n",
       "      <td>7</td>\n",
       "      <td>15</td>\n",
       "    </tr>\n",
       "    <tr>\n",
       "      <th>15</th>\n",
       "      <td>Ukraine</td>\n",
       "      <td>2</td>\n",
       "      <td>7</td>\n",
       "      <td>26</td>\n",
       "      <td>21.2%</td>\n",
       "      <td>6.0%</td>\n",
       "      <td>38</td>\n",
       "      <td>0</td>\n",
       "      <td>0</td>\n",
       "      <td>0</td>\n",
       "      <td>...</td>\n",
       "      <td>13</td>\n",
       "      <td>76.5%</td>\n",
       "      <td>48</td>\n",
       "      <td>31</td>\n",
       "      <td>4</td>\n",
       "      <td>5</td>\n",
       "      <td>0</td>\n",
       "      <td>9</td>\n",
       "      <td>9</td>\n",
       "      <td>18</td>\n",
       "    </tr>\n",
       "    <tr>\n",
       "      <th>4</th>\n",
       "      <td>France</td>\n",
       "      <td>3</td>\n",
       "      <td>22</td>\n",
       "      <td>24</td>\n",
       "      <td>37.9%</td>\n",
       "      <td>6.5%</td>\n",
       "      <td>65</td>\n",
       "      <td>1</td>\n",
       "      <td>0</td>\n",
       "      <td>0</td>\n",
       "      <td>...</td>\n",
       "      <td>6</td>\n",
       "      <td>54.6%</td>\n",
       "      <td>36</td>\n",
       "      <td>51</td>\n",
       "      <td>5</td>\n",
       "      <td>6</td>\n",
       "      <td>0</td>\n",
       "      <td>11</td>\n",
       "      <td>11</td>\n",
       "      <td>19</td>\n",
       "    </tr>\n",
       "    <tr>\n",
       "      <th>12</th>\n",
       "      <td>Russia</td>\n",
       "      <td>5</td>\n",
       "      <td>9</td>\n",
       "      <td>31</td>\n",
       "      <td>22.5%</td>\n",
       "      <td>12.5%</td>\n",
       "      <td>59</td>\n",
       "      <td>2</td>\n",
       "      <td>0</td>\n",
       "      <td>0</td>\n",
       "      <td>...</td>\n",
       "      <td>10</td>\n",
       "      <td>77.0%</td>\n",
       "      <td>34</td>\n",
       "      <td>43</td>\n",
       "      <td>4</td>\n",
       "      <td>6</td>\n",
       "      <td>0</td>\n",
       "      <td>7</td>\n",
       "      <td>7</td>\n",
       "      <td>16</td>\n",
       "    </tr>\n",
       "    <tr>\n",
       "      <th>1</th>\n",
       "      <td>Czech Republic</td>\n",
       "      <td>4</td>\n",
       "      <td>13</td>\n",
       "      <td>18</td>\n",
       "      <td>41.9%</td>\n",
       "      <td>12.9%</td>\n",
       "      <td>39</td>\n",
       "      <td>0</td>\n",
       "      <td>0</td>\n",
       "      <td>0</td>\n",
       "      <td>...</td>\n",
       "      <td>9</td>\n",
       "      <td>60.1%</td>\n",
       "      <td>53</td>\n",
       "      <td>73</td>\n",
       "      <td>8</td>\n",
       "      <td>7</td>\n",
       "      <td>0</td>\n",
       "      <td>11</td>\n",
       "      <td>11</td>\n",
       "      <td>19</td>\n",
       "    </tr>\n",
       "    <tr>\n",
       "      <th>14</th>\n",
       "      <td>Sweden</td>\n",
       "      <td>5</td>\n",
       "      <td>17</td>\n",
       "      <td>19</td>\n",
       "      <td>47.2%</td>\n",
       "      <td>13.8%</td>\n",
       "      <td>39</td>\n",
       "      <td>3</td>\n",
       "      <td>0</td>\n",
       "      <td>0</td>\n",
       "      <td>...</td>\n",
       "      <td>8</td>\n",
       "      <td>61.6%</td>\n",
       "      <td>35</td>\n",
       "      <td>51</td>\n",
       "      <td>7</td>\n",
       "      <td>7</td>\n",
       "      <td>0</td>\n",
       "      <td>9</td>\n",
       "      <td>9</td>\n",
       "      <td>18</td>\n",
       "    </tr>\n",
       "    <tr>\n",
       "      <th>0</th>\n",
       "      <td>Croatia</td>\n",
       "      <td>4</td>\n",
       "      <td>13</td>\n",
       "      <td>12</td>\n",
       "      <td>51.9%</td>\n",
       "      <td>16.0%</td>\n",
       "      <td>32</td>\n",
       "      <td>0</td>\n",
       "      <td>0</td>\n",
       "      <td>0</td>\n",
       "      <td>...</td>\n",
       "      <td>13</td>\n",
       "      <td>81.3%</td>\n",
       "      <td>41</td>\n",
       "      <td>62</td>\n",
       "      <td>2</td>\n",
       "      <td>9</td>\n",
       "      <td>0</td>\n",
       "      <td>9</td>\n",
       "      <td>9</td>\n",
       "      <td>16</td>\n",
       "    </tr>\n",
       "    <tr>\n",
       "      <th>13</th>\n",
       "      <td>Spain</td>\n",
       "      <td>12</td>\n",
       "      <td>42</td>\n",
       "      <td>33</td>\n",
       "      <td>55.9%</td>\n",
       "      <td>16.0%</td>\n",
       "      <td>100</td>\n",
       "      <td>0</td>\n",
       "      <td>1</td>\n",
       "      <td>0</td>\n",
       "      <td>...</td>\n",
       "      <td>15</td>\n",
       "      <td>93.8%</td>\n",
       "      <td>102</td>\n",
       "      <td>83</td>\n",
       "      <td>19</td>\n",
       "      <td>11</td>\n",
       "      <td>0</td>\n",
       "      <td>17</td>\n",
       "      <td>17</td>\n",
       "      <td>18</td>\n",
       "    </tr>\n",
       "    <tr>\n",
       "      <th>10</th>\n",
       "      <td>Portugal</td>\n",
       "      <td>6</td>\n",
       "      <td>22</td>\n",
       "      <td>42</td>\n",
       "      <td>34.3%</td>\n",
       "      <td>9.3%</td>\n",
       "      <td>82</td>\n",
       "      <td>6</td>\n",
       "      <td>0</td>\n",
       "      <td>0</td>\n",
       "      <td>...</td>\n",
       "      <td>10</td>\n",
       "      <td>71.5%</td>\n",
       "      <td>73</td>\n",
       "      <td>90</td>\n",
       "      <td>10</td>\n",
       "      <td>12</td>\n",
       "      <td>0</td>\n",
       "      <td>14</td>\n",
       "      <td>14</td>\n",
       "      <td>16</td>\n",
       "    </tr>\n",
       "    <tr>\n",
       "      <th>7</th>\n",
       "      <td>Italy</td>\n",
       "      <td>6</td>\n",
       "      <td>34</td>\n",
       "      <td>45</td>\n",
       "      <td>43.0%</td>\n",
       "      <td>7.5%</td>\n",
       "      <td>110</td>\n",
       "      <td>2</td>\n",
       "      <td>0</td>\n",
       "      <td>0</td>\n",
       "      <td>...</td>\n",
       "      <td>20</td>\n",
       "      <td>74.1%</td>\n",
       "      <td>101</td>\n",
       "      <td>89</td>\n",
       "      <td>16</td>\n",
       "      <td>16</td>\n",
       "      <td>0</td>\n",
       "      <td>18</td>\n",
       "      <td>18</td>\n",
       "      <td>19</td>\n",
       "    </tr>\n",
       "    <tr>\n",
       "      <th>11</th>\n",
       "      <td>Republic of Ireland</td>\n",
       "      <td>1</td>\n",
       "      <td>7</td>\n",
       "      <td>12</td>\n",
       "      <td>36.8%</td>\n",
       "      <td>5.2%</td>\n",
       "      <td>28</td>\n",
       "      <td>0</td>\n",
       "      <td>0</td>\n",
       "      <td>0</td>\n",
       "      <td>...</td>\n",
       "      <td>17</td>\n",
       "      <td>65.4%</td>\n",
       "      <td>43</td>\n",
       "      <td>51</td>\n",
       "      <td>11</td>\n",
       "      <td>6</td>\n",
       "      <td>1</td>\n",
       "      <td>10</td>\n",
       "      <td>10</td>\n",
       "      <td>17</td>\n",
       "    </tr>\n",
       "    <tr>\n",
       "      <th>9</th>\n",
       "      <td>Poland</td>\n",
       "      <td>2</td>\n",
       "      <td>15</td>\n",
       "      <td>23</td>\n",
       "      <td>39.4%</td>\n",
       "      <td>5.2%</td>\n",
       "      <td>48</td>\n",
       "      <td>0</td>\n",
       "      <td>0</td>\n",
       "      <td>0</td>\n",
       "      <td>...</td>\n",
       "      <td>6</td>\n",
       "      <td>66.7%</td>\n",
       "      <td>48</td>\n",
       "      <td>56</td>\n",
       "      <td>3</td>\n",
       "      <td>7</td>\n",
       "      <td>1</td>\n",
       "      <td>7</td>\n",
       "      <td>7</td>\n",
       "      <td>17</td>\n",
       "    </tr>\n",
       "    <tr>\n",
       "      <th>6</th>\n",
       "      <td>Greece</td>\n",
       "      <td>5</td>\n",
       "      <td>8</td>\n",
       "      <td>18</td>\n",
       "      <td>30.7%</td>\n",
       "      <td>19.2%</td>\n",
       "      <td>32</td>\n",
       "      <td>1</td>\n",
       "      <td>1</td>\n",
       "      <td>1</td>\n",
       "      <td>...</td>\n",
       "      <td>13</td>\n",
       "      <td>65.1%</td>\n",
       "      <td>67</td>\n",
       "      <td>48</td>\n",
       "      <td>12</td>\n",
       "      <td>9</td>\n",
       "      <td>1</td>\n",
       "      <td>12</td>\n",
       "      <td>12</td>\n",
       "      <td>20</td>\n",
       "    </tr>\n",
       "  </tbody>\n",
       "</table>\n",
       "<p>16 rows × 35 columns</p>\n",
       "</div>"
      ],
      "text/plain": [
       "                   Team  Goals  Shots on target  Shots off target  \\\n",
       "2               Denmark      4               10                10   \n",
       "5               Germany     10               32                32   \n",
       "3               England      5               11                18   \n",
       "8           Netherlands      2               12                36   \n",
       "15              Ukraine      2                7                26   \n",
       "4                France      3               22                24   \n",
       "12               Russia      5                9                31   \n",
       "1        Czech Republic      4               13                18   \n",
       "14               Sweden      5               17                19   \n",
       "0               Croatia      4               13                12   \n",
       "13                Spain     12               42                33   \n",
       "10             Portugal      6               22                42   \n",
       "7                 Italy      6               34                45   \n",
       "11  Republic of Ireland      1                7                12   \n",
       "9                Poland      2               15                23   \n",
       "6                Greece      5                8                18   \n",
       "\n",
       "   Shooting Accuracy % Goals-to-shots  Total shots (inc. Blocked)  \\\n",
       "2              50.0%            20.0%                          27   \n",
       "5              47.8%            15.6%                          80   \n",
       "3              50.0%            17.2%                          40   \n",
       "8              25.0%             4.1%                          60   \n",
       "15             21.2%             6.0%                          38   \n",
       "4              37.9%             6.5%                          65   \n",
       "12             22.5%            12.5%                          59   \n",
       "1              41.9%            12.9%                          39   \n",
       "14             47.2%            13.8%                          39   \n",
       "0              51.9%            16.0%                          32   \n",
       "13             55.9%            16.0%                         100   \n",
       "10             34.3%             9.3%                          82   \n",
       "7              43.0%             7.5%                         110   \n",
       "11             36.8%             5.2%                          28   \n",
       "9              39.4%             5.2%                          48   \n",
       "6              30.7%            19.2%                          32   \n",
       "\n",
       "    Hit Woodwork  Penalty goals  Penalties not scored  ...  Saves made  \\\n",
       "2              1              0                     0  ...          10   \n",
       "5              2              1                     0  ...          10   \n",
       "3              0              0                     0  ...          22   \n",
       "8              2              0                     0  ...          12   \n",
       "15             0              0                     0  ...          13   \n",
       "4              1              0                     0  ...           6   \n",
       "12             2              0                     0  ...          10   \n",
       "1              0              0                     0  ...           9   \n",
       "14             3              0                     0  ...           8   \n",
       "0              0              0                     0  ...          13   \n",
       "13             0              1                     0  ...          15   \n",
       "10             6              0                     0  ...          10   \n",
       "7              2              0                     0  ...          20   \n",
       "11             0              0                     0  ...          17   \n",
       "9              0              0                     0  ...           6   \n",
       "6              1              1                     1  ...          13   \n",
       "\n",
       "    Saves-to-shots ratio  Fouls Won Fouls Conceded  Offsides  Yellow Cards  \\\n",
       "2                  66.7%         25             38         8             4   \n",
       "5                  62.6%         63             49        12             4   \n",
       "3                  88.1%         43             45         6             5   \n",
       "8                  70.6%         35             30         3             5   \n",
       "15                 76.5%         48             31         4             5   \n",
       "4                  54.6%         36             51         5             6   \n",
       "12                 77.0%         34             43         4             6   \n",
       "1                  60.1%         53             73         8             7   \n",
       "14                 61.6%         35             51         7             7   \n",
       "0                  81.3%         41             62         2             9   \n",
       "13                 93.8%        102             83        19            11   \n",
       "10                 71.5%         73             90        10            12   \n",
       "7                  74.1%        101             89        16            16   \n",
       "11                 65.4%         43             51        11             6   \n",
       "9                  66.7%         48             56         3             7   \n",
       "6                  65.1%         67             48        12             9   \n",
       "\n",
       "    Red Cards  Subs on  Subs off  Players Used  \n",
       "2           0        7         7            15  \n",
       "5           0       15        15            17  \n",
       "3           0       11        11            16  \n",
       "8           0        7         7            15  \n",
       "15          0        9         9            18  \n",
       "4           0       11        11            19  \n",
       "12          0        7         7            16  \n",
       "1           0       11        11            19  \n",
       "14          0        9         9            18  \n",
       "0           0        9         9            16  \n",
       "13          0       17        17            18  \n",
       "10          0       14        14            16  \n",
       "7           0       18        18            19  \n",
       "11          1       10        10            17  \n",
       "9           1        7         7            17  \n",
       "6           1       12        12            20  \n",
       "\n",
       "[16 rows x 35 columns]"
      ]
     },
     "execution_count": 10,
     "metadata": {},
     "output_type": "execute_result"
    }
   ],
   "source": [
    "red_card = euro12.sort_values(by=['Red Cards', 'Yellow Cards'])\n",
    "red_card"
   ]
  },
  {
   "cell_type": "markdown",
   "id": "9b482661",
   "metadata": {},
   "source": [
    "Step 9. Calculate the mean Yellow Cards given per Team"
   ]
  },
  {
   "cell_type": "code",
   "execution_count": null,
   "id": "expressed-holocaust",
   "metadata": {},
   "outputs": [],
   "source": [
    "euro12['Yellow Cards'].mean()"
   ]
  },
  {
   "cell_type": "code",
   "execution_count": null,
   "id": "armed-fields",
   "metadata": {},
   "outputs": [],
   "source": [
    "# Filter teams that scored more than 6 goals\n",
    "euro12[euro12.Goals > 6]\n",
    "euro12[euro12.Team.str.startswith('G')]\n",
    "euro12.iloc[:, :7]\n",
    "euro12.iloc[:, :-3]\n",
    "euro12[(euro12.Team == \"England\") | (euro12.Team == \"Italy\") | (euro12.Team == \"Russia\")]"
   ]
  },
  {
   "cell_type": "markdown",
   "id": "qualified-honey",
   "metadata": {},
   "source": [
    "# Question 3\n",
    "\n",
    "Housing\n",
    "Step 1. Import the necessary libraries\n",
    "Step 2. Create 3 different Series, each of length 100, as follows:\n",
    "• The first a random number from 1 to 4\n",
    "• The second a random number from 1 to 3\n",
    "• The third a random number from 10,000 to 30,000\n",
    "Step 3. Create a DataFrame by joinning the Series by column\n",
    "Step 4. Change the name of the columns to bedrs, bathrs, price_sqr_meter\n",
    "Step 5. Create a one column DataFrame with the values of the 3 Series and assign it\n",
    "to 'bigcolumn'\n",
    "Step 6. Ops it seems it is going only until index 99. Is it true?\n",
    "Step 7. Reindex the DataFrame so it goes from 0 to 299\n"
   ]
  },
  {
   "cell_type": "markdown",
   "id": "arbitrary-mattress",
   "metadata": {},
   "source": [
    "Step 1. Import the necessary libraries\n",
    "Step 2. Create 3 different Series, each of length 100, as follows:\n",
    "• The first a random number from 1 to 4\n",
    "• The second a random number from 1 to 3\n",
    "• The third a random number from 10,000 to 30,000\n",
    "Step 3. Create a DataFrame by joinning the Series by column\n",
    "Step 4. Change the name of the columns to bedrs, bathrs, price_sqr_meter"
   ]
  },
  {
   "cell_type": "code",
   "execution_count": null,
   "id": "sealed-departure",
   "metadata": {},
   "outputs": [],
   "source": [
    "import pandas as pd\n",
    "import random\n",
    "\n",
    "Series1 = pd.Series(random.randint(1, 4) for _ in range(100))\n",
    "Series2 = pd.Series(random.randint(1, 2) for _ in range(100))\n",
    "Series3 = pd.Series(random.randint(10000, 30000) for _ in range(100))\n",
    "df = pd.concat([Series1, Series2, Series3], axis = 1)\n",
    "df\n",
    "df.columns = [\"bedrs\", \"bathrs\", \"price_sqr_meter\"]\n",
    "df"
   ]
  },
  {
   "cell_type": "markdown",
   "id": "literary-vintage",
   "metadata": {},
   "source": [
    "Step 5. Create a one column DataFrame with the values of the 3 Series and assign it\n",
    "to 'bigcolumn'\n"
   ]
  },
  {
   "cell_type": "code",
   "execution_count": null,
   "id": "outer-priest",
   "metadata": {},
   "outputs": [],
   "source": [
    "ddf = pd.concat([Series1, Series2, Series3])\n",
    "ddf"
   ]
  },
  {
   "cell_type": "markdown",
   "id": "induced-cattle",
   "metadata": {},
   "source": [
    "Step 6. Ops it seems it is going only until index 99. Is it true?"
   ]
  },
  {
   "cell_type": "code",
   "execution_count": null,
   "id": "floral-heater",
   "metadata": {},
   "outputs": [],
   "source": [
    "True"
   ]
  },
  {
   "cell_type": "markdown",
   "id": "ideal-ottawa",
   "metadata": {},
   "source": [
    "Step 7. Reindex the DataFrame so it goes from 0 to 299"
   ]
  },
  {
   "cell_type": "code",
   "execution_count": null,
   "id": "organized-encyclopedia",
   "metadata": {},
   "outputs": [],
   "source": [
    "ddf.reset_index(drop=True)"
   ]
  },
  {
   "cell_type": "markdown",
   "id": "thrown-brick",
   "metadata": {},
   "source": [
    "# Question 4\n",
    "\n",
    "Wind Statistics\n",
    "The data have been modified to contain some missing values, identified by NaN.\n",
    "Using pandas should make this exercise easier, in particular for the bonus question.\n",
    "You should be able to perform all of these operations without using a for loop or\n",
    "other looping construct.\n",
    "\n",
    "Step 1. Import the necessary libraries\n",
    "Step 2. Import the dataset from this address\n",
    "Step 3. Assign it to a variable called data and replace the first 3 columns by a proper\n",
    "datetime index.\n",
    "Step 4. Year 2061? Do we really have data from this year? Create a function to fix it\n",
    "and apply it.\n",
    "Step 5. Set the right dates as the index. Pay attention at the data type, it should be\n",
    "datetime64[ns].\n",
    "Step 6. Compute how many values are missing for each location over the entire\n",
    "record.They should be ignored in all calculations below.\n",
    "Step 7. Compute how many non-missing values there are in total.\n",
    "Step 8. Calculate the mean windspeeds of the windspeeds over all the locations and\n",
    "all the times.\n",
    "A single number for the entire dataset.\n",
    "Step 9. Create a DataFrame called loc_stats and calculate the min, max and mean\n",
    "windspeeds and standard deviations of the windspeeds at each location over all the\n",
    "days\n",
    "A different set of numbers for each location.\n",
    "Step 10. Create a DataFrame called day_stats and calculate the min, max and mean\n",
    "windspeed and standard deviations of the windspeeds across all the locations at each\n",
    "day.\n",
    "A different set of numbers for each day.\n",
    "Step 11. Find the average windspeed in January for each location.\n",
    "Treat January 1961 and January 1962 both as January.\n",
    "Step 12. Downsample the record to a yearly frequency for each location.\n",
    "Step 13. Downsample the record to a monthly frequency for each location.\n",
    "Step 14. Downsample the record to a weekly frequency for each location.\n",
    "Step 15. Calculate the min, max and mean windspeeds and standard deviations of the\n",
    "windspeeds across all locations for each week (assume that the first week starts on\n",
    "January 2 1961) for the first 52 weeks."
   ]
  },
  {
   "cell_type": "code",
   "execution_count": null,
   "id": "mature-sense",
   "metadata": {},
   "outputs": [],
   "source": [
    "import pandas as pd\n",
    "import datetime\n",
    "\n",
    "url = \"https://raw.githubusercontent.com/guipsamora/pandas_exercises/master/06_Stats/Wind_Stats/wind.data\"\n",
    "data = pd.read_csv(url, sep=\"\\s+\", parse_dates=[[0,1,2]])\n",
    "\n",
    "data"
   ]
  },
  {
   "cell_type": "markdown",
   "id": "comparative-boards",
   "metadata": {},
   "source": [
    "Step 4. Year 2061? Do we really have data from this year? Create a function to fix it\n",
    "and apply it."
   ]
  },
  {
   "cell_type": "code",
   "execution_count": null,
   "id": "promotional-newark",
   "metadata": {},
   "outputs": [],
   "source": [
    "def date_fix(d):\n",
    "    year = d.year - 100 if d.year > 1989 else d.year\n",
    "    return datetime.date(year, d.month, d.day)\n",
    "    \n",
    "data['Yr_Mo_Dy']  = data['Yr_Mo_Dy'].apply(date_fix)\n",
    "\n",
    "data"
   ]
  },
  {
   "cell_type": "markdown",
   "id": "established-newspaper",
   "metadata": {},
   "source": [
    "\n",
    "Step 5. Set the right dates as the index. Pay attention at the data type, it should be\n",
    "datetime64[ns]."
   ]
  },
  {
   "cell_type": "code",
   "execution_count": null,
   "id": "impressive-harbor",
   "metadata": {},
   "outputs": [],
   "source": [
    "data[\"Yr_Mo_Dy\"] = pd.to_datetime(data[\"Yr_Mo_Dy\"])\n",
    "data = data.set_index('Yr_Mo_Dy')\n",
    "data"
   ]
  },
  {
   "cell_type": "markdown",
   "id": "continental-norwegian",
   "metadata": {},
   "source": [
    "Step 7. Compute how many non-missing values there are in total."
   ]
  },
  {
   "cell_type": "code",
   "execution_count": null,
   "id": "fifteen-utility",
   "metadata": {},
   "outputs": [],
   "source": [
    "data.isnull().sum()"
   ]
  },
  {
   "cell_type": "markdown",
   "id": "becoming-myanmar",
   "metadata": {},
   "source": [
    "Step 8. Calculate the mean windspeeds of the windspeeds over all the locations and\n",
    "all the times."
   ]
  },
  {
   "cell_type": "code",
   "execution_count": null,
   "id": "tested-parker",
   "metadata": {},
   "outputs": [],
   "source": [
    "\n",
    "data.sum().sum() / data.notna().sum().sum()"
   ]
  },
  {
   "cell_type": "code",
   "execution_count": null,
   "id": "packed-implementation",
   "metadata": {},
   "outputs": [],
   "source": [
    "data.describe(percentiles=[])"
   ]
  },
  {
   "cell_type": "markdown",
   "id": "dedicated-february",
   "metadata": {},
   "source": [
    "Step 9. Create a DataFrame called loc_stats and calculate the min, max and mean\n",
    "windspeeds and standard deviations of the windspeeds at each location over all the\n",
    "days\n",
    "A different set of numbers for each location."
   ]
  },
  {
   "cell_type": "code",
   "execution_count": null,
   "id": "original-entrepreneur",
   "metadata": {},
   "outputs": [],
   "source": [
    "day_stats = pd.DataFrame()\n",
    "day_stats['min'] = data.min(axis = 1) \n",
    "day_stats['max'] = data.max(axis = 1) \n",
    "day_stats['mean'] = data.mean(axis = 1) \n",
    "day_stats['std'] = data.std(axis = 1)\n",
    "\n",
    "day_stats.head()"
   ]
  },
  {
   "cell_type": "markdown",
   "id": "powerful-appendix",
   "metadata": {},
   "source": [
    "Step 10. Create a DataFrame called day_stats and calculate the min, max and mean\n",
    "windspeed and standard deviations of the windspeeds across all the locations at each\n",
    "day.\n",
    "A different set of numbers for each day."
   ]
  },
  {
   "cell_type": "code",
   "execution_count": null,
   "id": "departmental-slide",
   "metadata": {},
   "outputs": [],
   "source": [
    "data.loc[data.index.month == 1].mean()"
   ]
  },
  {
   "cell_type": "markdown",
   "id": "durable-computer",
   "metadata": {},
   "source": [
    "Step 13. Downsample the record to a yearly frequency for each location.\n"
   ]
  },
  {
   "cell_type": "code",
   "execution_count": null,
   "id": "adaptive-collective",
   "metadata": {},
   "outputs": [],
   "source": [
    "data.groupby(data.index.to_period('A')).mean()"
   ]
  },
  {
   "cell_type": "markdown",
   "id": "thermal-tablet",
   "metadata": {},
   "source": [
    "Step 13. Downsample the record to a monthly frequency for each location.\n"
   ]
  },
  {
   "cell_type": "code",
   "execution_count": null,
   "id": "optimum-parking",
   "metadata": {},
   "outputs": [],
   "source": [
    "data.groupby(data.index.to_period('M')).mean()"
   ]
  },
  {
   "cell_type": "markdown",
   "id": "diagnostic-separation",
   "metadata": {},
   "source": [
    "Step 14. Downsample the record to a weekly frequency for each location."
   ]
  },
  {
   "cell_type": "code",
   "execution_count": null,
   "id": "accurate-wyoming",
   "metadata": {},
   "outputs": [],
   "source": [
    "data.groupby(data.index.to_period('W')).mean()"
   ]
  },
  {
   "cell_type": "markdown",
   "id": "known-ballot",
   "metadata": {},
   "source": [
    "# Question 5\n",
    "\n",
    "Step 1. Import the necessary libraries\n",
    "Step 2. Import the dataset from this address.\n",
    "Step 3. Assign it to a variable called chipo.\n",
    "Step 4. See the first 10 entries\n",
    "Step 5. What is the number of observations in the dataset?\n",
    "Step 6. What is the number of columns in the dataset?\n",
    "Step 7. Print the name of all the columns.\n",
    "Step 8. How is the dataset indexed?\n",
    "Step 9. Which was the most-ordered item?\n",
    "Step 10. For the most-ordered item, how many items were ordered?\n",
    "Step 11. What was the most ordered item in the choice_description column?\n",
    "Step 12. How many items were orderd in total?\n",
    "Step 13.\n",
    "• Turn the item price into a float\n",
    "• Check the item price type\n",
    "• Create a lambda function and change the type of item price\n",
    "• Check the item price type\n",
    "Step 14. How much was the revenue for the period in the dataset?\n",
    "Step 15. How many orders were made in the period?\n",
    "Step 16. What is the average revenue amount per order?\n",
    "Step 17. How many different items are sold?"
   ]
  },
  {
   "cell_type": "markdown",
   "id": "colored-hepatitis",
   "metadata": {},
   "source": [
    "Step 1. Import the necessary libraries\n",
    "Step 2. Import the dataset from this address.\n",
    "Step 3. Assign it to a variable called chipo.\n",
    "Step 4. See the first 10 entries"
   ]
  },
  {
   "cell_type": "code",
   "execution_count": null,
   "id": "affecting-magnitude",
   "metadata": {},
   "outputs": [],
   "source": [
    "import pandas as pd\n",
    "url = \"https://raw.githubusercontent.com/justmarkham/DAT8/master/data/chipotle.tsv\"\n",
    "chipo = pd.read_csv(url, sep='\\t')\n",
    "chipo[:10]"
   ]
  },
  {
   "cell_type": "markdown",
   "id": "bearing-fishing",
   "metadata": {},
   "source": [
    "Step 5. What is the number of observations in the dataset?\n"
   ]
  },
  {
   "cell_type": "code",
   "execution_count": null,
   "id": "separate-energy",
   "metadata": {},
   "outputs": [],
   "source": [
    "chipo.shape[0]"
   ]
  },
  {
   "cell_type": "markdown",
   "id": "changing-capture",
   "metadata": {},
   "source": [
    "Step 6. What is the number of columns in the dataset?"
   ]
  },
  {
   "cell_type": "code",
   "execution_count": null,
   "id": "eleven-fields",
   "metadata": {},
   "outputs": [],
   "source": [
    "chipo.shape[1]"
   ]
  },
  {
   "cell_type": "markdown",
   "id": "computational-syntax",
   "metadata": {},
   "source": [
    "Step 7. Print the name of all the columns."
   ]
  },
  {
   "cell_type": "code",
   "execution_count": null,
   "id": "potential-fishing",
   "metadata": {},
   "outputs": [],
   "source": [
    "chipo.columns"
   ]
  },
  {
   "cell_type": "markdown",
   "id": "recent-diploma",
   "metadata": {},
   "source": [
    "# Question 6\n",
    "\n",
    "\n",
    "Create a line plot showing the number of marriages and divorces per capita in the\n",
    "U.S. between 1867 and 2014. Label both lines and show the legend.\n",
    "Don't forget to label your axes!"
   ]
  },
  {
   "cell_type": "code",
   "execution_count": null,
   "id": "hundred-buying",
   "metadata": {},
   "outputs": [],
   "source": [
    "import pandas as pd\n",
    "import matplotlib.pyplot as plt\n",
    "%matplotlib inline\n",
    "\n",
    "data = pd.read_csv(\"us-marriages-divorces-1867-2014.csv\")\n",
    "marriages_per_capita = data['Marriages_per_1000']\n",
    "divorces_per_capita = data['Divorces_per_1000']\n",
    "\n",
    "columns = marriages_per_capita, divorces_per_capita\n",
    "years = data['Year']\n",
    "ind = [\"marriages per capita\", \"divorces per capita\"]\n",
    "\n",
    "x_data = range(1867, 1867 + data.shape[0])\n",
    "fig, ax = plt.subplots()\n",
    "\n",
    "\n",
    "for i in range(len(columns)):\n",
    "    ax.plot(x_data, columns[i], label=ind[i])\n",
    "\n",
    "ax.set_xlabel('Year')\n",
    "ax.set_ylabel('Marriage/Divorces per 1000 people')\n",
    "ax.legend()"
   ]
  },
  {
   "cell_type": "markdown",
   "id": "fixed-builder",
   "metadata": {},
   "source": [
    "# Question 7\n",
    "\n",
    "Create a vertical bar chart comparing the number of marriages and divorces per\n",
    "capita in the U.S. between 1900, 1950, and 2000.\n",
    "Don't forget to label your axes!"
   ]
  },
  {
   "cell_type": "code",
   "execution_count": 12,
   "id": "emotional-christmas",
   "metadata": {},
   "outputs": [
    {
     "data": {
      "image/png": "[encoded data removed]",
      "text/plain": [
       "<Figure size 432x288 with 1 Axes>"
      ]
     },
     "metadata": {
      "needs_background": "light"
     },
     "output_type": "display_data"
    }
   ],
   "source": [
    "import pandas as pd\n",
    "import numpy as np\n",
    "import matplotlib.pyplot as plt\n",
    "%matplotlib inline\n",
    "\n",
    "data = pd.read_csv(\"us-marriages-divorces-1867-2014.csv\")\n",
    "\n",
    "# data\n",
    "marriages_per_capita = data['Marriages_per_1000']\n",
    "divorces_per_capita = data['Divorces_per_1000']\n",
    "\n",
    "year = [1900, 1950, 2000]\n",
    "ind = [\"marriages per capita\", \"divorces per capita\"]\n",
    "\n",
    "specific_data = data.loc[data['Year'] == 1900]\n",
    "specific_data = specific_data.append(data.loc[data['Year'] == 1950])\n",
    "specific_data = specific_data.append(data.loc[data['Year'] == 2000])\n",
    "columns = specific_data['Marriages_per_1000'], specific_data['Divorces_per_1000']\n",
    "\n",
    "fig, ax = plt.subplots()\n",
    "bar_width = 0.35\n",
    "X = np.arange(3)\n",
    "\n",
    "ax = plt.bar(X, columns[0], bar_width, label=\"Number of Marriages\")\n",
    "ax = plt.bar(X + bar_width, columns[1], bar_width, label=\"Number of Divorces\")\n",
    "\n",
    "plt.xlabel('Year')\n",
    "plt.ylabel('Marriage/Divorces per 1000 people')\n",
    "plt.xticks(X + (bar_width/2) , (\"1900\", \"1950\", \"2000\"))\n",
    "plt.legend()\n",
    "plt.tight_layout()"
   ]
  },
  {
   "cell_type": "markdown",
   "id": "dress-fundamental",
   "metadata": {},
   "source": [
    "# Question 8\n",
    "\n",
    "Create a horizontal bar chart that compares the deadliest actors in Hollywood. Sort\n",
    "the actors by their kill count and label each bar with the corresponding actor's name.\n",
    "Don't forget to label your axes!"
   ]
  },
  {
   "cell_type": "code",
   "execution_count": 14,
   "id": "fitting-monte",
   "metadata": {},
   "outputs": [
    {
     "data": {
      "text/plain": [
       "Text(0, 0.5, 'Number of kills')"
      ]
     },
     "execution_count": 14,
     "metadata": {},
     "output_type": "execute_result"
    },
    {
     "data": {
      "image/png": "[encoded data removed]",
      "text/plain": [
       "<Figure size 432x288 with 1 Axes>"
      ]
     },
     "metadata": {
      "needs_background": "light"
     },
     "output_type": "display_data"
    }
   ],
   "source": [
    "hollywood_actor_kills = pd.read_csv('actor_kill_counts.csv')\n",
    "hollywood_actor_kills = hollywood_actor_kills.sort_values(by=['Count'])\n",
    "\n",
    "actor_names = hollywood_actor_kills['Actor'].values\n",
    "kill_counts = hollywood_actor_kills['Count'].values\n",
    "\n",
    "\n",
    "plt.bar(actor_names, kill_counts, label=actor_names)\n",
    "plt.xticks(rotation='vertical')\n",
    "plt.xlabel(\"Actors\")\n",
    "plt.ylabel(\"Number of kills\")"
   ]
  },
  {
   "cell_type": "markdown",
   "id": "different-kansas",
   "metadata": {},
   "source": [
    "# Question 9\n",
    "\n",
    "Create a pie chart showing the fraction of all Roman Emperors that were\n",
    "assassinated.\n",
    "Make sure that the pie chart is an even circle, labels the categories, and shows the\n",
    "percentage breakdown of the categories."
   ]
  },
  {
   "cell_type": "code",
   "execution_count": 15,
   "id": "introductory-dairy",
   "metadata": {},
   "outputs": [
    {
     "data": {
      "text/plain": [
       "([<matplotlib.patches.Wedge at 0x10cda24c0>,\n",
       "  <matplotlib.patches.Wedge at 0x10cda2ca0>],\n",
       " [Text(0.2021245589239696, 1.0812703929544132, 'Assissanated'),\n",
       "  Text(-0.20212466015980965, -1.0812703740301413, 'Not Assissanated')],\n",
       " [Text(0.11024975941307431, 0.5897838507024071, '44.12%'),\n",
       "  Text(-0.11024981463262343, -0.589783840380077, '55.88%')])"
      ]
     },
     "execution_count": 15,
     "metadata": {},
     "output_type": "execute_result"
    },
    {
     "data": {
      "image/png": "[encoded data removed]",
      "text/plain": [
       "<Figure size 432x288 with 1 Axes>"
      ]
     },
     "metadata": {},
     "output_type": "display_data"
    }
   ],
   "source": [
    "roman_emperors = pd.read_csv('roman-emperor-reigns.csv')\n",
    "roman_emperor_reign_lengths = roman_emperors['Length_of_Reign'].values\n",
    "\n",
    "\n",
    "val = roman_emperors.loc[roman_emperors['Cause_of_Death'] == 'Assassinated']\n",
    "val = val.append(roman_emperors.loc[roman_emperors['Cause_of_Death'] == 'Possibly assassinated'])\n",
    "v = len(val)/len(roman_emperors) * 100\n",
    "\n",
    "plt.pie([v, 100-v], labels=['Assissanated', 'Not Assissanated'], autopct='%1.2f%%')"
   ]
  },
  {
   "cell_type": "code",
   "execution_count": 16,
   "id": "concrete-forestry",
   "metadata": {},
   "outputs": [
    {
     "data": {
      "text/plain": [
       "([<matplotlib.patches.Wedge at 0x10cdebdc0>,\n",
       "  <matplotlib.patches.Wedge at 0x10cdf65e0>,\n",
       "  <matplotlib.patches.Wedge at 0x10cdf6be0>,\n",
       "  <matplotlib.patches.Wedge at 0x10ce06340>,\n",
       "  <matplotlib.patches.Wedge at 0x10ce06a60>,\n",
       "  <matplotlib.patches.Wedge at 0x10ce131f0>,\n",
       "  <matplotlib.patches.Wedge at 0x10ce13910>,\n",
       "  <matplotlib.patches.Wedge at 0x10ce13fd0>,\n",
       "  <matplotlib.patches.Wedge at 0x10ce21790>,\n",
       "  <matplotlib.patches.Wedge at 0x10ce21eb0>,\n",
       "  <matplotlib.patches.Wedge at 0x10cdcc880>,\n",
       "  <matplotlib.patches.Wedge at 0x10ce2ed00>,\n",
       "  <matplotlib.patches.Wedge at 0x10ce3d460>,\n",
       "  <matplotlib.patches.Wedge at 0x10ce3db80>,\n",
       "  <matplotlib.patches.Wedge at 0x10ce4a2e0>,\n",
       "  <matplotlib.patches.Wedge at 0x10ce4aa00>,\n",
       "  <matplotlib.patches.Wedge at 0x10ce57160>,\n",
       "  <matplotlib.patches.Wedge at 0x10ce57880>,\n",
       "  <matplotlib.patches.Wedge at 0x10ce57fa0>,\n",
       "  <matplotlib.patches.Wedge at 0x10ce65700>,\n",
       "  <matplotlib.patches.Wedge at 0x10ce65e20>,\n",
       "  <matplotlib.patches.Wedge at 0x10ce72580>,\n",
       "  <matplotlib.patches.Wedge at 0x10ce72ca0>,\n",
       "  <matplotlib.patches.Wedge at 0x10ce7f400>,\n",
       "  <matplotlib.patches.Wedge at 0x10ce7fb20>,\n",
       "  <matplotlib.patches.Wedge at 0x10ce8d280>,\n",
       "  <matplotlib.patches.Wedge at 0x10ce8d9a0>,\n",
       "  <matplotlib.patches.Wedge at 0x10ce9a100>,\n",
       "  <matplotlib.patches.Wedge at 0x10ce9a820>,\n",
       "  <matplotlib.patches.Wedge at 0x10ce9af40>],\n",
       " [Text(1.0977957711837816, 0.06960204573866097, 'Caligula'),\n",
       "  Text(1.090104102845483, 0.14721767882779735, 'Galba'),\n",
       "  Text(1.0875454991521547, 0.16505995054491746, 'Vitellius'),\n",
       "  Text(1.0310118701458997, 0.38342473005565836, 'Domitian'),\n",
       "  Text(0.8053709016107381, 0.7492514336580924, 'Commodus'),\n",
       "  Text(0.6405411181448973, 0.8942634264945004, 'Pertinax'),\n",
       "  Text(0.396974325483376, 1.0258710371713486, 'Caracalla'),\n",
       "  Text(0.08880259017546775, 1.0964096405897423, 'Geta'),\n",
       "  Text(-0.008435550030035769, 1.0999676547497617, 'Elagabalus'),\n",
       "  Text(-0.24782465563908013, 1.0717196182105522, 'Severus Alexander'),\n",
       "  Text(-0.46880072294967184, 0.9951009406898704, 'Maximinus I'),\n",
       "  Text(-0.5139483714648845, 0.9725518348492246, 'Pupienus'),\n",
       "  Text(-0.5203119185587748, 0.9691622709359291, 'Balbinus'),\n",
       "  Text(-0.5486673305497047, 0.9533961193478088, 'Trebonianus Gallus'),\n",
       "  Text(-0.5754397918369155, 0.9374801576410497, 'Aemilian'),\n",
       "  Text(-0.7491986007541552, 0.8054200498050791, 'Gallienus'),\n",
       "  Text(-0.9323515696854444, 0.58371272943554, 'Aurelian'),\n",
       "  Text(-0.9702853506448925, 0.5182145678422386, 'Florian'),\n",
       "  Text(-1.0094412570828863, 0.4370678991860673, 'Probus'),\n",
       "  Text(-1.04524487027094, 0.3427289908547069, 'Severus II'),\n",
       "  Text(-1.0902387185415914, 0.14621742916899058, 'Constans I'),\n",
       "  Text(-1.0666572484097365, -0.2687793042906574, 'Gratian'),\n",
       "  Text(-0.6048860847362874, -0.9187561289550156, 'Augustus'),\n",
       "  Text(0.2664714347768975, -1.0672361380912576, 'Tiberius'),\n",
       "  Text(0.72522827123091, -0.8270694980516605, 'Claudius'),\n",
       "  Text(0.9128048865260865, -0.613829975753953, 'Gordian III'),\n",
       "  Text(0.9640344691377414, -0.5297523405463286, 'Quintillus'),\n",
       "  Text(0.9747993249980688, -0.5096727145760402, 'Tacitus'),\n",
       "  Text(0.9862341506521349, -0.4871777910449759, 'Numerian'),\n",
       "  Text(1.0727975374492777, -0.24311611144217898, 'Valentinian II')],\n",
       " [Text(0.5987976933729716, 0.03796475222108779, '2.02%'),\n",
       "  Text(0.594602237915718, 0.08030055208788946, '0.24%'),\n",
       "  Text(0.5932066359011753, 0.0900327002972277, '0.28%'),\n",
       "  Text(0.5623701109886725, 0.20914076184854088, '6.26%'),\n",
       "  Text(0.43929321906040253, 0.40868260017714125, '6.26%'),\n",
       "  Text(0.34938606444267123, 0.487780050815182, '0.10%'),\n",
       "  Text(0.21653145026365964, 0.559566020275281, '7.93%'),\n",
       "  Text(0.04843777645934604, 0.5980416221398595, '1.25%'),\n",
       "  Text(-0.004601209107292237, 0.5999823571362336, '1.56%'),\n",
       "  Text(-0.13517708489404368, 0.5845743372057556, '5.42%'),\n",
       "  Text(-0.25570948524527554, 0.5427823312853838, '1.36%'),\n",
       "  Text(-0.2803354753444824, 0.5304828190086679, '0.10%'),\n",
       "  Text(-0.2838065010320589, 0.5286339659650522, '0.10%'),\n",
       "  Text(-0.299273089390748, 0.5200342469169865, '0.83%'),\n",
       "  Text(-0.31387625009286296, 0.5113528132587544, '0.07%'),\n",
       "  Text(-0.4086537822295392, 0.4393200271664068, '6.26%'),\n",
       "  Text(-0.508555401646606, 0.3183887615102945, '2.09%'),\n",
       "  Text(-0.5292465548972141, 0.282662491550312, '0.10%'),\n",
       "  Text(-0.5506043220452107, 0.2384006722833094, '2.50%'),\n",
       "  Text(-0.5701335656023309, 0.18694308592074924, '0.42%'),\n",
       "  Text(-0.5946756646590498, 0.07975496136490395, '5.42%'),\n",
       "  Text(-0.5818130445871289, -0.14660689324944948, '6.68%'),\n",
       "  Text(-0.3299378644016112, -0.5011397067027358, '16.93%'),\n",
       "  Text(0.14534805533285317, -0.5821288025952314, '9.39%'),\n",
       "  Text(0.3955790570350418, -0.4511288171190875, '5.74%'),\n",
       "  Text(0.4978935744687744, -0.3348163504112471, '2.50%'),\n",
       "  Text(0.5258369831660407, -0.2889558221161792, '0.35%'),\n",
       "  Text(0.5317087227262193, -0.27800329885965824, '0.31%'),\n",
       "  Text(0.5379459003557099, -0.2657333405699868, '0.42%'),\n",
       "  Text(0.5851622931541514, -0.13260878805937035, '7.09%')])"
      ]
     },
     "execution_count": 16,
     "metadata": {},
     "output_type": "execute_result"
    },
    {
     "data": {
      "image/png": "[encoded data removed]",
      "text/plain": [
       "<Figure size 432x288 with 1 Axes>"
      ]
     },
     "metadata": {},
     "output_type": "display_data"
    }
   ],
   "source": [
    "roman_emperors = pd.read_csv('roman-emperor-reigns.csv')\n",
    "roman_emperor_reign_lengths = roman_emperors['Length_of_Reign'].values\n",
    "\n",
    "\n",
    "val = roman_emperors.loc[roman_emperors['Cause_of_Death'] == 'Assassinated']\n",
    "\n",
    "\n",
    "val = val.append(roman_emperors.loc[roman_emperors['Cause_of_Death'] == 'Possibly assassinated'])\n",
    "plt.pie(val['Length_of_Reign'], labels=val['Emperor'], autopct='%1.2f%%')"
   ]
  },
  {
   "cell_type": "markdown",
   "id": "centered-paintball",
   "metadata": {},
   "source": [
    "# Question 10\n",
    "\n",
    "Create a scatter plot showing the relationship between the total revenue earned by\n",
    "arcades and the number of Computer Science PhDs awarded in the U.S. between\n",
    "2000 and 2009.\n",
    "Don't forget to label your axes!\n",
    "Color each dot according to its year."
   ]
  },
  {
   "cell_type": "code",
   "execution_count": 19,
   "id": "infrared-player",
   "metadata": {},
   "outputs": [
    {
     "data": {
      "text/plain": [
       "Text(0, 0.5, 'Computer Science Doctorates Awarded (US)')"
      ]
     },
     "execution_count": 19,
     "metadata": {},
     "output_type": "execute_result"
    },
    {
     "data": {
      "image/png": "[encoded data removed]",
      "text/plain": [
       "<Figure size 432x288 with 1 Axes>"
      ]
     },
     "metadata": {
      "needs_background": "light"
     },
     "output_type": "display_data"
    }
   ],
   "source": [
    "import numpy as np\n",
    "import matplotlib.pyplot as plt\n",
    "import matplotlib.cm as cm\n",
    "import pandas as pd\n",
    "import matplotlib.pyplot as plt\n",
    "%matplotlib inline\n",
    "\n",
    "\n",
    "arcade_revenue_cs_doctorates = pd.read_csv('arcade-revenue-vs-cs-doctorates.csv')\n",
    "arcade_revenue = arcade_revenue_cs_doctorates['Total Arcade Revenue (billions)'].values\n",
    "cs_doctorates_awarded = arcade_revenue_cs_doctorates['Computer Science Doctorates Awarded (US)'].values\n",
    "\n",
    "# arcade_revenue_cs_doctorates\n",
    "\n",
    "fig, ax = plt.subplots()\n",
    "\n",
    "colors = cm.rainbow(np.linspace(0, 1, len(arcade_revenue_cs_doctorates['Year'])))\n",
    "\n",
    "for i in range(len(arcade_revenue_cs_doctorates['Year'])):\n",
    "    ax.scatter(arcade_revenue[i], cs_doctorates_awarded[i],color=colors[i])\n",
    "\n",
    "ax.set_xlabel('Total Arcade Revenue (billions)')\n",
    "ax.set_ylabel('Computer Science Doctorates Awarded (US)')"
   ]
  },
  {
   "cell_type": "code",
   "execution_count": null,
   "id": "a8e52500",
   "metadata": {},
   "outputs": [],
   "source": []
  }
 ],
 "metadata": {
  "kernelspec": {
   "display_name": "Python 3",
   "language": "python",
   "name": "python3"
  },
  "language_info": {
   "codemirror_mode": {
    "name": "ipython",
    "version": 3
   },
   "file_extension": ".py",
   "mimetype": "text/x-python",
   "name": "python",
   "nbconvert_exporter": "python",
   "pygments_lexer": "ipython3",
   "version": "3.9.4"
  }
 },
 "nbformat": 4,
 "nbformat_minor": 5
}
